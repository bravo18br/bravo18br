{
  "nbformat": 4,
  "nbformat_minor": 0,
  "metadata": {
    "colab": {
      "provenance": [],
      "authorship_tag": "ABX9TyOdC9XSMj3R9TIP//hbSI0G",
      "include_colab_link": true
    },
    "kernelspec": {
      "name": "python3",
      "display_name": "Python 3"
    },
    "language_info": {
      "name": "python"
    }
  },
  "cells": [
    {
      "cell_type": "markdown",
      "metadata": {
        "id": "view-in-github",
        "colab_type": "text"
      },
      "source": [
        "<a href=\"https://colab.research.google.com/github/bravo18br/bravo18br/blob/main/Meu_Curso_Python.ipynb\" target=\"_parent\"><img src=\"https://colab.research.google.com/assets/colab-badge.svg\" alt=\"Open In Colab\"/></a>"
      ]
    },
    {
      "cell_type": "markdown",
      "source": [
        "Importar as bibliotecas principais para Data Science"
      ],
      "metadata": {
        "id": "js158zRIA3P1"
      }
    },
    {
      "cell_type": "code",
      "execution_count": 12,
      "metadata": {
        "id": "om_9O6G7_g4E"
      },
      "outputs": [],
      "source": [
        "import numpy as np\n",
        "import pandas as pd\n",
        "import matplotlib as mp\n",
        "import requests as rq\n",
        "import plotly as py\n",
        "import sqlalchemy as alc\n",
        "import chardet\n",
        "\n",
        "url = 'https://raw.githubusercontent.com/alura-cursos/Pandas/main/dados_sus.csv'"
      ]
    },
    {
      "cell_type": "markdown",
      "source": [
        "Como dados, vamos usar o seguinte arquivo: https://raw.githubusercontent.com/alura-cursos/Pandas/main/dados_sus.csv\n",
        "Para detectar o tipo de codificação dessa arquivo, usaremos o CHARDET"
      ],
      "metadata": {
        "id": "6C1VdQLxB6mB"
      }
    },
    {
      "cell_type": "code",
      "source": [
        "def detectar_codificacao(url):\n",
        "    resposta = rq.get(url)\n",
        "    if resposta.status_code == 200:\n",
        "        conteudo_bytes = resposta.content\n",
        "        resultado = chardet.detect(conteudo_bytes)\n",
        "        return resultado['encoding']\n",
        "    else:\n",
        "        print(f'Erro ao baixar o arquivo. Código de status: {resposta.status_code}')\n",
        "        return None"
      ],
      "metadata": {
        "id": "ujXSG4aSAmFT"
      },
      "execution_count": 13,
      "outputs": []
    },
    {
      "cell_type": "markdown",
      "source": [
        "Sabendo a codificação do arquivo, é possível lê-lo e guardá-lo em uma variável"
      ],
      "metadata": {
        "id": "AImwNwegKs4N"
      }
    },
    {
      "cell_type": "code",
      "source": [
        "codificacao_detectada = detectar_codificacao(url)\n",
        "if (codificacao_detectada!=None):\n",
        "    dados = pd.read_csv(url, sep=';', skiprows=3, skipfooter=9, encoding=codificacao_detectada, engine='python')\n",
        "print(dados.head(3))"
      ],
      "metadata": {
        "colab": {
          "base_uri": "https://localhost:8080/"
        },
        "id": "vu19QJmiK15l",
        "outputId": "debf446c-59bb-46cf-8a14-c9532bec3303"
      },
      "execution_count": 29,
      "outputs": [
        {
          "output_type": "stream",
          "name": "stdout",
          "text": [
            "  Unidade da Federação    2008/Jan    2008/Fev    2008/Mar    2008/Abr  \\\n",
            "0             Rondônia  1388528,39  2931283,42  1541682,52  1525314,96   \n",
            "1                 Acre   902416,00  1497206,26  1794028,48  1730469,42   \n",
            "2             Amazonas  4735529,42  7118990,57  8196635,49  8259378,42   \n",
            "\n",
            "     2008/Mai    2008/Jun    2008/Jul    2008/Ago    2008/Set  ...  \\\n",
            "0  1645953,84  1406150,68  3065279,01  3231494,61  3117178,63  ...   \n",
            "1  1819443,92  1828496,00  2511754,59  2089107,14  2275708,53  ...   \n",
            "2  7831399,90  8477273,62  9368858,72  9352532,70  9363099,35  ...   \n",
            "\n",
            "      2020/Jul     2020/Ago     2020/Set     2020/Out     2020/Nov  \\\n",
            "0  11824687,13  11733307,76  10201985,14   7955139,45   9357946,29   \n",
            "1   3915193,20   3640142,82   3391242,21   4044321,44   3276590,10   \n",
            "2  19769460,14  18059931,43  17841015,63  16408315,10  19895617,91   \n",
            "\n",
            "      2020/Dez     2021/Jan     2021/Fev     2021/Mar          Total  \n",
            "0   8880836,55   9266014,59   7730597,04  11023309,47   996411254,68  \n",
            "1   3696997,31   3715723,12   3538427,92   4077045,92   450048530,47  \n",
            "2  17765167,69  21430289,17  25917134,55  22032176,22  1917247936,05  \n",
            "\n",
            "[3 rows x 161 columns]\n"
          ]
        }
      ]
    }
  ]
}